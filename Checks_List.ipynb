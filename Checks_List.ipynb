{
 "cells": [
  {
   "cell_type": "markdown",
   "id": "67694851",
   "metadata": {},
   "source": [
    "# Check Sales Forecast"
   ]
  },
  {
   "cell_type": "code",
   "execution_count": 23,
   "id": "69745243",
   "metadata": {},
   "outputs": [],
   "source": [
    "import pandas as pd \n",
    "import numpy as np"
   ]
  },
  {
   "cell_type": "code",
   "execution_count": 24,
   "id": "b76fde25",
   "metadata": {},
   "outputs": [],
   "source": [
    "checks_df= pd.read_csv(\"Downloads/check_list_2021.csv\")"
   ]
  },
  {
   "cell_type": "code",
   "execution_count": 25,
   "id": "0b0b4ce9",
   "metadata": {},
   "outputs": [
    {
     "data": {
      "text/html": [
       "<div>\n",
       "<style scoped>\n",
       "    .dataframe tbody tr th:only-of-type {\n",
       "        vertical-align: middle;\n",
       "    }\n",
       "\n",
       "    .dataframe tbody tr th {\n",
       "        vertical-align: top;\n",
       "    }\n",
       "\n",
       "    .dataframe thead th {\n",
       "        text-align: right;\n",
       "    }\n",
       "</style>\n",
       "<table border=\"1\" class=\"dataframe\">\n",
       "  <thead>\n",
       "    <tr style=\"text-align: right;\">\n",
       "      <th></th>\n",
       "      <th>**********************</th>\n",
       "      <th>NO CHEQUE</th>\n",
       "      <th>BANCO</th>\n",
       "      <th>MONTO</th>\n",
       "      <th>COMICION</th>\n",
       "      <th>TOTAL</th>\n",
       "      <th>DIA CAMBIO</th>\n",
       "      <th>NO TEL</th>\n",
       "      <th>ID CLIENTE</th>\n",
       "      <th>N. DE EMPRESA</th>\n",
       "      <th>Unnamed: 10</th>\n",
       "      <th>Unnamed: 11</th>\n",
       "      <th>Unnamed: 12</th>\n",
       "      <th>Unnamed: 13</th>\n",
       "      <th>Unnamed: 14</th>\n",
       "      <th>Unnamed: 15</th>\n",
       "      <th>Unnamed: 16</th>\n",
       "    </tr>\n",
       "  </thead>\n",
       "  <tbody>\n",
       "    <tr>\n",
       "      <th>0</th>\n",
       "      <td>DANIEL E AGUIRRE</td>\n",
       "      <td>1068.0</td>\n",
       "      <td>UNION BANK</td>\n",
       "      <td>$1,359.47</td>\n",
       "      <td>$21.07</td>\n",
       "      <td>$1,338.40</td>\n",
       "      <td>5/14/2019</td>\n",
       "      <td>0</td>\n",
       "      <td>NaN</td>\n",
       "      <td>CALIFORNIA BURRITO</td>\n",
       "      <td>NaN</td>\n",
       "      <td>CAMBIARIO 1</td>\n",
       "      <td>FECHA:</td>\n",
       "      <td>01/01/2021</td>\n",
       "      <td>NaN</td>\n",
       "      <td>NaN</td>\n",
       "      <td>NaN</td>\n",
       "    </tr>\n",
       "    <tr>\n",
       "      <th>1</th>\n",
       "      <td>CLAUDIO CALONA</td>\n",
       "      <td>30597.0</td>\n",
       "      <td>WELLS FARGO BANK</td>\n",
       "      <td>$1,138.19</td>\n",
       "      <td>$17.64</td>\n",
       "      <td>$1,120.55</td>\n",
       "      <td>5/14/2019</td>\n",
       "      <td>0</td>\n",
       "      <td>NaN</td>\n",
       "      <td>STONE TILE EVOLUTION LLC</td>\n",
       "      <td>NaN</td>\n",
       "      <td>SUB TOTAL</td>\n",
       "      <td>COM</td>\n",
       "      <td>T SIN COM</td>\n",
       "      <td>NaN</td>\n",
       "      <td>NaN</td>\n",
       "      <td>NaN</td>\n",
       "    </tr>\n",
       "    <tr>\n",
       "      <th>2</th>\n",
       "      <td>ENRIQUE OROSCO DIAZ</td>\n",
       "      <td>3064.0</td>\n",
       "      <td>EL DORADO SAVINGS BANK</td>\n",
       "      <td>$895.34</td>\n",
       "      <td>$13.88</td>\n",
       "      <td>$881.46</td>\n",
       "      <td>5/14/2019</td>\n",
       "      <td>0</td>\n",
       "      <td>NaN</td>\n",
       "      <td>SB MARTIN LLC</td>\n",
       "      <td>NaN</td>\n",
       "      <td>NaN</td>\n",
       "      <td>$ -</td>\n",
       "      <td>$ -</td>\n",
       "      <td>NaN</td>\n",
       "      <td>NaN</td>\n",
       "      <td>NaN</td>\n",
       "    </tr>\n",
       "    <tr>\n",
       "      <th>3</th>\n",
       "      <td>CESAR ORTIZ RANGEL</td>\n",
       "      <td>10101647.0</td>\n",
       "      <td>CALIFORNIA BANK</td>\n",
       "      <td>$356.34</td>\n",
       "      <td>$5.52</td>\n",
       "      <td>$350.82</td>\n",
       "      <td>5/14/2019</td>\n",
       "      <td>0</td>\n",
       "      <td>NaN</td>\n",
       "      <td>HORIZON</td>\n",
       "      <td>NaN</td>\n",
       "      <td></td>\n",
       "      <td>NaN</td>\n",
       "      <td>NaN</td>\n",
       "      <td>NaN</td>\n",
       "      <td>NaN</td>\n",
       "      <td>NaN</td>\n",
       "    </tr>\n",
       "    <tr>\n",
       "      <th>4</th>\n",
       "      <td>CESAR ORTIZ RANGEL</td>\n",
       "      <td>10094421.0</td>\n",
       "      <td>CALIFORNIA BANK</td>\n",
       "      <td>$607.95</td>\n",
       "      <td>$9.42</td>\n",
       "      <td>$598.53</td>\n",
       "      <td>5/15/2019</td>\n",
       "      <td>0</td>\n",
       "      <td>NaN</td>\n",
       "      <td>HORIZON</td>\n",
       "      <td>NaN</td>\n",
       "      <td>SUB TOTAL</td>\n",
       "      <td>COM</td>\n",
       "      <td>T SIN COM</td>\n",
       "      <td>NaN</td>\n",
       "      <td>NaN</td>\n",
       "      <td>NaN</td>\n",
       "    </tr>\n",
       "  </tbody>\n",
       "</table>\n",
       "</div>"
      ],
      "text/plain": [
       "   **********************   NO CHEQUE                   BANCO      MONTO  \\\n",
       "0        DANIEL E AGUIRRE      1068.0              UNION BANK  $1,359.47   \n",
       "1          CLAUDIO CALONA     30597.0        WELLS FARGO BANK  $1,138.19   \n",
       "2     ENRIQUE OROSCO DIAZ      3064.0  EL DORADO SAVINGS BANK    $895.34   \n",
       "3      CESAR ORTIZ RANGEL  10101647.0         CALIFORNIA BANK    $356.34   \n",
       "4      CESAR ORTIZ RANGEL  10094421.0         CALIFORNIA BANK    $607.95   \n",
       "\n",
       "  COMICION      TOTAL DIA CAMBIO NO TEL ID CLIENTE             N. DE EMPRESA  \\\n",
       "0   $21.07  $1,338.40  5/14/2019      0        NaN        CALIFORNIA BURRITO   \n",
       "1   $17.64  $1,120.55  5/14/2019      0        NaN  STONE TILE EVOLUTION LLC   \n",
       "2   $13.88    $881.46  5/14/2019      0        NaN             SB MARTIN LLC   \n",
       "3    $5.52    $350.82  5/14/2019      0        NaN                   HORIZON   \n",
       "4    $9.42    $598.53  5/15/2019      0        NaN                   HORIZON   \n",
       "\n",
       "   Unnamed: 10    Unnamed: 11 Unnamed: 12  Unnamed: 13 Unnamed: 14  \\\n",
       "0          NaN   CAMBIARIO 1      FECHA:    01/01/2021         NaN   \n",
       "1          NaN      SUB TOTAL        COM    T SIN COM          NaN   \n",
       "2          NaN            NaN      $ -          $ -            NaN   \n",
       "3          NaN                        NaN          NaN         NaN   \n",
       "4          NaN     SUB TOTAL         COM    T SIN COM          NaN   \n",
       "\n",
       "  Unnamed: 15 Unnamed: 16  \n",
       "0         NaN         NaN  \n",
       "1         NaN         NaN  \n",
       "2         NaN         NaN  \n",
       "3         NaN         NaN  \n",
       "4         NaN         NaN  "
      ]
     },
     "execution_count": 25,
     "metadata": {},
     "output_type": "execute_result"
    }
   ],
   "source": [
    "checks_df.head()"
   ]
  },
  {
   "cell_type": "code",
   "execution_count": 26,
   "id": "a8662d07",
   "metadata": {},
   "outputs": [],
   "source": [
    "checks_df =checks_df.drop(columns=['ID CLIENTE', 'NO TEL','Unnamed: 10',\n",
    "                        'Unnamed: 11', 'Unnamed: 12', 'Unnamed: 13', 'Unnamed: 14',\n",
    "                       'Unnamed: 15', 'Unnamed: 16'])"
   ]
  },
  {
   "cell_type": "code",
   "execution_count": 27,
   "id": "482411c1",
   "metadata": {},
   "outputs": [
    {
     "data": {
      "text/html": [
       "<div>\n",
       "<style scoped>\n",
       "    .dataframe tbody tr th:only-of-type {\n",
       "        vertical-align: middle;\n",
       "    }\n",
       "\n",
       "    .dataframe tbody tr th {\n",
       "        vertical-align: top;\n",
       "    }\n",
       "\n",
       "    .dataframe thead th {\n",
       "        text-align: right;\n",
       "    }\n",
       "</style>\n",
       "<table border=\"1\" class=\"dataframe\">\n",
       "  <thead>\n",
       "    <tr style=\"text-align: right;\">\n",
       "      <th></th>\n",
       "      <th>**********************</th>\n",
       "      <th>NO CHEQUE</th>\n",
       "      <th>BANCO</th>\n",
       "      <th>MONTO</th>\n",
       "      <th>COMICION</th>\n",
       "      <th>TOTAL</th>\n",
       "      <th>DIA CAMBIO</th>\n",
       "      <th>N. DE EMPRESA</th>\n",
       "    </tr>\n",
       "  </thead>\n",
       "  <tbody>\n",
       "    <tr>\n",
       "      <th>0</th>\n",
       "      <td>DANIEL E AGUIRRE</td>\n",
       "      <td>1068.0</td>\n",
       "      <td>UNION BANK</td>\n",
       "      <td>$1,359.47</td>\n",
       "      <td>$21.07</td>\n",
       "      <td>$1,338.40</td>\n",
       "      <td>5/14/2019</td>\n",
       "      <td>CALIFORNIA BURRITO</td>\n",
       "    </tr>\n",
       "    <tr>\n",
       "      <th>1</th>\n",
       "      <td>CLAUDIO CALONA</td>\n",
       "      <td>30597.0</td>\n",
       "      <td>WELLS FARGO BANK</td>\n",
       "      <td>$1,138.19</td>\n",
       "      <td>$17.64</td>\n",
       "      <td>$1,120.55</td>\n",
       "      <td>5/14/2019</td>\n",
       "      <td>STONE TILE EVOLUTION LLC</td>\n",
       "    </tr>\n",
       "    <tr>\n",
       "      <th>2</th>\n",
       "      <td>ENRIQUE OROSCO DIAZ</td>\n",
       "      <td>3064.0</td>\n",
       "      <td>EL DORADO SAVINGS BANK</td>\n",
       "      <td>$895.34</td>\n",
       "      <td>$13.88</td>\n",
       "      <td>$881.46</td>\n",
       "      <td>5/14/2019</td>\n",
       "      <td>SB MARTIN LLC</td>\n",
       "    </tr>\n",
       "    <tr>\n",
       "      <th>3</th>\n",
       "      <td>CESAR ORTIZ RANGEL</td>\n",
       "      <td>10101647.0</td>\n",
       "      <td>CALIFORNIA BANK</td>\n",
       "      <td>$356.34</td>\n",
       "      <td>$5.52</td>\n",
       "      <td>$350.82</td>\n",
       "      <td>5/14/2019</td>\n",
       "      <td>HORIZON</td>\n",
       "    </tr>\n",
       "    <tr>\n",
       "      <th>4</th>\n",
       "      <td>CESAR ORTIZ RANGEL</td>\n",
       "      <td>10094421.0</td>\n",
       "      <td>CALIFORNIA BANK</td>\n",
       "      <td>$607.95</td>\n",
       "      <td>$9.42</td>\n",
       "      <td>$598.53</td>\n",
       "      <td>5/15/2019</td>\n",
       "      <td>HORIZON</td>\n",
       "    </tr>\n",
       "  </tbody>\n",
       "</table>\n",
       "</div>"
      ],
      "text/plain": [
       "   **********************   NO CHEQUE                   BANCO      MONTO  \\\n",
       "0        DANIEL E AGUIRRE      1068.0              UNION BANK  $1,359.47   \n",
       "1          CLAUDIO CALONA     30597.0        WELLS FARGO BANK  $1,138.19   \n",
       "2     ENRIQUE OROSCO DIAZ      3064.0  EL DORADO SAVINGS BANK    $895.34   \n",
       "3      CESAR ORTIZ RANGEL  10101647.0         CALIFORNIA BANK    $356.34   \n",
       "4      CESAR ORTIZ RANGEL  10094421.0         CALIFORNIA BANK    $607.95   \n",
       "\n",
       "  COMICION      TOTAL DIA CAMBIO             N. DE EMPRESA  \n",
       "0   $21.07  $1,338.40  5/14/2019        CALIFORNIA BURRITO  \n",
       "1   $17.64  $1,120.55  5/14/2019  STONE TILE EVOLUTION LLC  \n",
       "2   $13.88    $881.46  5/14/2019             SB MARTIN LLC  \n",
       "3    $5.52    $350.82  5/14/2019                   HORIZON  \n",
       "4    $9.42    $598.53  5/15/2019                   HORIZON  "
      ]
     },
     "execution_count": 27,
     "metadata": {},
     "output_type": "execute_result"
    }
   ],
   "source": [
    "checks_df.head()"
   ]
  },
  {
   "cell_type": "code",
   "execution_count": 28,
   "id": "4e17f741",
   "metadata": {},
   "outputs": [],
   "source": [
    "checks_df=checks_df.rename(columns={' **********************': 'client_name','NO CHEQUE': 'check_no','BANCO':'bank',\n",
    "                                   'MONTO':'amount','TOTAL':'total','DIA CAMBIO':'date_cashed',\n",
    "                                   'N. DE EMPRESA': 'company_name','COMICION':'commision'})"
   ]
  },
  {
   "cell_type": "code",
   "execution_count": 29,
   "id": "1e410447",
   "metadata": {},
   "outputs": [
    {
     "data": {
      "text/plain": [
       "64.0         10\n",
       "1048.0        7\n",
       "1451.0        6\n",
       "1117.0        6\n",
       "1347.0        6\n",
       "             ..\n",
       "6341.0        1\n",
       "20752.0       1\n",
       "20799.0       1\n",
       "2023018.0     1\n",
       "3608.0        1\n",
       "Name: check_no, Length: 14849, dtype: int64"
      ]
     },
     "execution_count": 29,
     "metadata": {},
     "output_type": "execute_result"
    }
   ],
   "source": [
    "checks_df.check_no.value_counts()"
   ]
  },
  {
   "cell_type": "code",
   "execution_count": 30,
   "id": "666b9f08",
   "metadata": {
    "scrolled": false
   },
   "outputs": [
    {
     "data": {
      "text/html": [
       "<div>\n",
       "<style scoped>\n",
       "    .dataframe tbody tr th:only-of-type {\n",
       "        vertical-align: middle;\n",
       "    }\n",
       "\n",
       "    .dataframe tbody tr th {\n",
       "        vertical-align: top;\n",
       "    }\n",
       "\n",
       "    .dataframe thead th {\n",
       "        text-align: right;\n",
       "    }\n",
       "</style>\n",
       "<table border=\"1\" class=\"dataframe\">\n",
       "  <thead>\n",
       "    <tr style=\"text-align: right;\">\n",
       "      <th></th>\n",
       "      <th>client_name</th>\n",
       "      <th>check_no</th>\n",
       "      <th>bank</th>\n",
       "      <th>amount</th>\n",
       "      <th>commision</th>\n",
       "      <th>total</th>\n",
       "      <th>date_cashed</th>\n",
       "      <th>company_name</th>\n",
       "    </tr>\n",
       "  </thead>\n",
       "  <tbody>\n",
       "    <tr>\n",
       "      <th>0</th>\n",
       "      <td>DANIEL E AGUIRRE</td>\n",
       "      <td>1068.0</td>\n",
       "      <td>UNION BANK</td>\n",
       "      <td>$1,359.47</td>\n",
       "      <td>$21.07</td>\n",
       "      <td>$1,338.40</td>\n",
       "      <td>5/14/2019</td>\n",
       "      <td>CALIFORNIA BURRITO</td>\n",
       "    </tr>\n",
       "    <tr>\n",
       "      <th>1</th>\n",
       "      <td>CLAUDIO CALONA</td>\n",
       "      <td>30597.0</td>\n",
       "      <td>WELLS FARGO BANK</td>\n",
       "      <td>$1,138.19</td>\n",
       "      <td>$17.64</td>\n",
       "      <td>$1,120.55</td>\n",
       "      <td>5/14/2019</td>\n",
       "      <td>STONE TILE EVOLUTION LLC</td>\n",
       "    </tr>\n",
       "    <tr>\n",
       "      <th>2</th>\n",
       "      <td>ENRIQUE OROSCO DIAZ</td>\n",
       "      <td>3064.0</td>\n",
       "      <td>EL DORADO SAVINGS BANK</td>\n",
       "      <td>$895.34</td>\n",
       "      <td>$13.88</td>\n",
       "      <td>$881.46</td>\n",
       "      <td>5/14/2019</td>\n",
       "      <td>SB MARTIN LLC</td>\n",
       "    </tr>\n",
       "    <tr>\n",
       "      <th>3</th>\n",
       "      <td>CESAR ORTIZ RANGEL</td>\n",
       "      <td>10101647.0</td>\n",
       "      <td>CALIFORNIA BANK</td>\n",
       "      <td>$356.34</td>\n",
       "      <td>$5.52</td>\n",
       "      <td>$350.82</td>\n",
       "      <td>5/14/2019</td>\n",
       "      <td>HORIZON</td>\n",
       "    </tr>\n",
       "    <tr>\n",
       "      <th>4</th>\n",
       "      <td>CESAR ORTIZ RANGEL</td>\n",
       "      <td>10094421.0</td>\n",
       "      <td>CALIFORNIA BANK</td>\n",
       "      <td>$607.95</td>\n",
       "      <td>$9.42</td>\n",
       "      <td>$598.53</td>\n",
       "      <td>5/15/2019</td>\n",
       "      <td>HORIZON</td>\n",
       "    </tr>\n",
       "  </tbody>\n",
       "</table>\n",
       "</div>"
      ],
      "text/plain": [
       "           client_name    check_no                    bank     amount  \\\n",
       "0     DANIEL E AGUIRRE      1068.0              UNION BANK  $1,359.47   \n",
       "1       CLAUDIO CALONA     30597.0        WELLS FARGO BANK  $1,138.19   \n",
       "2  ENRIQUE OROSCO DIAZ      3064.0  EL DORADO SAVINGS BANK    $895.34   \n",
       "3   CESAR ORTIZ RANGEL  10101647.0         CALIFORNIA BANK    $356.34   \n",
       "4   CESAR ORTIZ RANGEL  10094421.0         CALIFORNIA BANK    $607.95   \n",
       "\n",
       "  commision      total date_cashed              company_name  \n",
       "0    $21.07  $1,338.40   5/14/2019        CALIFORNIA BURRITO  \n",
       "1    $17.64  $1,120.55   5/14/2019  STONE TILE EVOLUTION LLC  \n",
       "2    $13.88    $881.46   5/14/2019             SB MARTIN LLC  \n",
       "3     $5.52    $350.82   5/14/2019                   HORIZON  \n",
       "4     $9.42    $598.53   5/15/2019                   HORIZON  "
      ]
     },
     "execution_count": 30,
     "metadata": {},
     "output_type": "execute_result"
    }
   ],
   "source": [
    "checks_df.head()"
   ]
  },
  {
   "cell_type": "code",
   "execution_count": 31,
   "id": "0d0aead8",
   "metadata": {},
   "outputs": [
    {
     "data": {
      "text/plain": [
       "Index(['client_name', 'check_no', 'bank', 'amount', 'commision', 'total',\n",
       "       'date_cashed', 'company_name'],\n",
       "      dtype='object')"
      ]
     },
     "execution_count": 31,
     "metadata": {},
     "output_type": "execute_result"
    }
   ],
   "source": [
    "checks_df.columns"
   ]
  },
  {
   "cell_type": "code",
   "execution_count": 32,
   "id": "d973b5e0",
   "metadata": {
    "scrolled": true
   },
   "outputs": [
    {
     "name": "stdout",
     "output_type": "stream",
     "text": [
      "<class 'pandas.core.frame.DataFrame'>\n",
      "RangeIndex: 17999 entries, 0 to 17998\n",
      "Data columns (total 8 columns):\n",
      " #   Column        Non-Null Count  Dtype  \n",
      "---  ------        --------------  -----  \n",
      " 0   client_name   17093 non-null  object \n",
      " 1   check_no      17093 non-null  float64\n",
      " 2   bank          17093 non-null  object \n",
      " 3   amount        17093 non-null  object \n",
      " 4   commision     17999 non-null  object \n",
      " 5   total         17999 non-null  object \n",
      " 6   date_cashed   14365 non-null  object \n",
      " 7   company_name  17092 non-null  object \n",
      "dtypes: float64(1), object(7)\n",
      "memory usage: 1.1+ MB\n"
     ]
    }
   ],
   "source": [
    "checks_df.info()"
   ]
  },
  {
   "cell_type": "code",
   "execution_count": 33,
   "id": "19311956",
   "metadata": {
    "scrolled": true
   },
   "outputs": [
    {
     "data": {
      "text/html": [
       "<div>\n",
       "<style scoped>\n",
       "    .dataframe tbody tr th:only-of-type {\n",
       "        vertical-align: middle;\n",
       "    }\n",
       "\n",
       "    .dataframe tbody tr th {\n",
       "        vertical-align: top;\n",
       "    }\n",
       "\n",
       "    .dataframe thead th {\n",
       "        text-align: right;\n",
       "    }\n",
       "</style>\n",
       "<table border=\"1\" class=\"dataframe\">\n",
       "  <thead>\n",
       "    <tr style=\"text-align: right;\">\n",
       "      <th></th>\n",
       "      <th>client_name</th>\n",
       "      <th>check_no</th>\n",
       "      <th>bank</th>\n",
       "      <th>amount</th>\n",
       "      <th>commision</th>\n",
       "      <th>total</th>\n",
       "      <th>date_cashed</th>\n",
       "      <th>company_name</th>\n",
       "    </tr>\n",
       "  </thead>\n",
       "  <tbody>\n",
       "    <tr>\n",
       "      <th>17994</th>\n",
       "      <td>NaN</td>\n",
       "      <td>NaN</td>\n",
       "      <td>NaN</td>\n",
       "      <td>NaN</td>\n",
       "      <td>$0.00</td>\n",
       "      <td>$0.00</td>\n",
       "      <td>NaN</td>\n",
       "      <td>NaN</td>\n",
       "    </tr>\n",
       "    <tr>\n",
       "      <th>17995</th>\n",
       "      <td>NaN</td>\n",
       "      <td>NaN</td>\n",
       "      <td>NaN</td>\n",
       "      <td>NaN</td>\n",
       "      <td>$0.00</td>\n",
       "      <td>$0.00</td>\n",
       "      <td>NaN</td>\n",
       "      <td>NaN</td>\n",
       "    </tr>\n",
       "    <tr>\n",
       "      <th>17996</th>\n",
       "      <td>NaN</td>\n",
       "      <td>NaN</td>\n",
       "      <td>NaN</td>\n",
       "      <td>NaN</td>\n",
       "      <td>$0.00</td>\n",
       "      <td>$0.00</td>\n",
       "      <td>NaN</td>\n",
       "      <td>NaN</td>\n",
       "    </tr>\n",
       "    <tr>\n",
       "      <th>17997</th>\n",
       "      <td>NaN</td>\n",
       "      <td>NaN</td>\n",
       "      <td>NaN</td>\n",
       "      <td>NaN</td>\n",
       "      <td>$0.00</td>\n",
       "      <td>$0.00</td>\n",
       "      <td>NaN</td>\n",
       "      <td>NaN</td>\n",
       "    </tr>\n",
       "    <tr>\n",
       "      <th>17998</th>\n",
       "      <td>NaN</td>\n",
       "      <td>NaN</td>\n",
       "      <td>NaN</td>\n",
       "      <td>NaN</td>\n",
       "      <td>$0.00</td>\n",
       "      <td>$0.00</td>\n",
       "      <td>NaN</td>\n",
       "      <td>NaN</td>\n",
       "    </tr>\n",
       "  </tbody>\n",
       "</table>\n",
       "</div>"
      ],
      "text/plain": [
       "      client_name  check_no bank amount commision  total date_cashed  \\\n",
       "17994         NaN       NaN  NaN    NaN     $0.00  $0.00         NaN   \n",
       "17995         NaN       NaN  NaN    NaN     $0.00  $0.00         NaN   \n",
       "17996         NaN       NaN  NaN    NaN     $0.00  $0.00         NaN   \n",
       "17997         NaN       NaN  NaN    NaN     $0.00  $0.00         NaN   \n",
       "17998         NaN       NaN  NaN    NaN     $0.00  $0.00         NaN   \n",
       "\n",
       "      company_name  \n",
       "17994          NaN  \n",
       "17995          NaN  \n",
       "17996          NaN  \n",
       "17997          NaN  \n",
       "17998          NaN  "
      ]
     },
     "execution_count": 33,
     "metadata": {},
     "output_type": "execute_result"
    }
   ],
   "source": [
    "checks_df.tail()"
   ]
  },
  {
   "cell_type": "markdown",
   "id": "26d9ef6f",
   "metadata": {},
   "source": [
    "Last entries were not filled out, dropping these last entries. \n",
    "Checking only if check_no and amount have missing values, dropping these. "
   ]
  },
  {
   "cell_type": "code",
   "execution_count": 34,
   "id": "52edc745",
   "metadata": {},
   "outputs": [
    {
     "data": {
      "text/plain": [
       "client_name      906\n",
       "check_no         906\n",
       "bank             906\n",
       "amount           906\n",
       "commision          0\n",
       "total              0\n",
       "date_cashed     3634\n",
       "company_name     907\n",
       "dtype: int64"
      ]
     },
     "execution_count": 34,
     "metadata": {},
     "output_type": "execute_result"
    }
   ],
   "source": [
    "checks_df.isnull().sum()"
   ]
  },
  {
   "cell_type": "code",
   "execution_count": 35,
   "id": "46ff796e",
   "metadata": {
    "scrolled": true
   },
   "outputs": [
    {
     "name": "stdout",
     "output_type": "stream",
     "text": [
      "<class 'pandas.core.frame.DataFrame'>\n",
      "Int64Index: 14365 entries, 0 to 14365\n",
      "Data columns (total 8 columns):\n",
      " #   Column        Non-Null Count  Dtype  \n",
      "---  ------        --------------  -----  \n",
      " 0   client_name   14365 non-null  object \n",
      " 1   check_no      14365 non-null  float64\n",
      " 2   bank          14365 non-null  object \n",
      " 3   amount        14365 non-null  object \n",
      " 4   commision     14365 non-null  object \n",
      " 5   total         14365 non-null  object \n",
      " 6   date_cashed   14365 non-null  object \n",
      " 7   company_name  14364 non-null  object \n",
      "dtypes: float64(1), object(7)\n",
      "memory usage: 1010.0+ KB\n"
     ]
    }
   ],
   "source": [
    "checks_updated = checks_df.dropna(subset=['check_no', 'amount','date_cashed'])\n",
    "checks_updated.info()"
   ]
  },
  {
   "cell_type": "code",
   "execution_count": 36,
   "id": "c0b298cb",
   "metadata": {},
   "outputs": [
    {
     "data": {
      "text/plain": [
       "client_name     0\n",
       "check_no        0\n",
       "bank            0\n",
       "amount          0\n",
       "commision       0\n",
       "total           0\n",
       "date_cashed     0\n",
       "company_name    1\n",
       "dtype: int64"
      ]
     },
     "execution_count": 36,
     "metadata": {},
     "output_type": "execute_result"
    }
   ],
   "source": [
    "checks_updated.isnull().sum()"
   ]
  },
  {
   "cell_type": "code",
   "execution_count": 37,
   "id": "f3546e0e",
   "metadata": {
    "scrolled": true
   },
   "outputs": [
    {
     "data": {
      "text/html": [
       "<div>\n",
       "<style scoped>\n",
       "    .dataframe tbody tr th:only-of-type {\n",
       "        vertical-align: middle;\n",
       "    }\n",
       "\n",
       "    .dataframe tbody tr th {\n",
       "        vertical-align: top;\n",
       "    }\n",
       "\n",
       "    .dataframe thead th {\n",
       "        text-align: right;\n",
       "    }\n",
       "</style>\n",
       "<table border=\"1\" class=\"dataframe\">\n",
       "  <thead>\n",
       "    <tr style=\"text-align: right;\">\n",
       "      <th></th>\n",
       "      <th>client_name</th>\n",
       "      <th>check_no</th>\n",
       "      <th>bank</th>\n",
       "      <th>amount</th>\n",
       "      <th>commision</th>\n",
       "      <th>total</th>\n",
       "      <th>date_cashed</th>\n",
       "      <th>company_name</th>\n",
       "    </tr>\n",
       "  </thead>\n",
       "  <tbody>\n",
       "    <tr>\n",
       "      <th>14361</th>\n",
       "      <td>JUAN SARABIA</td>\n",
       "      <td>2.581330e+05</td>\n",
       "      <td>BANK OF AMERICA</td>\n",
       "      <td>$671.95</td>\n",
       "      <td>$12.10</td>\n",
       "      <td>$659.85</td>\n",
       "      <td>11/09/2021</td>\n",
       "      <td>SAMUEL HALE LLC</td>\n",
       "    </tr>\n",
       "    <tr>\n",
       "      <th>14362</th>\n",
       "      <td>ELDER CHOCOJ</td>\n",
       "      <td>1.031588e+09</td>\n",
       "      <td>CHASE BANK</td>\n",
       "      <td>$1,021.07</td>\n",
       "      <td>$18.38</td>\n",
       "      <td>$1,002.69</td>\n",
       "      <td>11/09/2021</td>\n",
       "      <td>FOUNTAINS GYRO HOUSE LLC</td>\n",
       "    </tr>\n",
       "    <tr>\n",
       "      <th>14363</th>\n",
       "      <td>ELDER CHOCOJ</td>\n",
       "      <td>1.031570e+09</td>\n",
       "      <td>CHASE BANK</td>\n",
       "      <td>$1,540.02</td>\n",
       "      <td>$27.72</td>\n",
       "      <td>$1,512.30</td>\n",
       "      <td>11/09/2021</td>\n",
       "      <td>RIDGE GYRO HOUSE</td>\n",
       "    </tr>\n",
       "    <tr>\n",
       "      <th>14364</th>\n",
       "      <td>LEONORA OCHOA RUIZ</td>\n",
       "      <td>5.554700e+04</td>\n",
       "      <td>PREMIER BANK</td>\n",
       "      <td>$1,283.56</td>\n",
       "      <td>$23.10</td>\n",
       "      <td>$1,260.46</td>\n",
       "      <td>11/09/2021</td>\n",
       "      <td>TWS RESTAURANT CORP STORE</td>\n",
       "    </tr>\n",
       "    <tr>\n",
       "      <th>14365</th>\n",
       "      <td>VICTOR VALADEZ</td>\n",
       "      <td>3.001287e+08</td>\n",
       "      <td>US BANK</td>\n",
       "      <td>$754.76</td>\n",
       "      <td>$13.59</td>\n",
       "      <td>$741.17</td>\n",
       "      <td>11/09/2021</td>\n",
       "      <td>AVITUS INC</td>\n",
       "    </tr>\n",
       "  </tbody>\n",
       "</table>\n",
       "</div>"
      ],
      "text/plain": [
       "              client_name      check_no             bank     amount commision  \\\n",
       "14361        JUAN SARABIA  2.581330e+05  BANK OF AMERICA    $671.95    $12.10   \n",
       "14362        ELDER CHOCOJ  1.031588e+09       CHASE BANK  $1,021.07    $18.38   \n",
       "14363        ELDER CHOCOJ  1.031570e+09       CHASE BANK  $1,540.02    $27.72   \n",
       "14364  LEONORA OCHOA RUIZ  5.554700e+04     PREMIER BANK  $1,283.56    $23.10   \n",
       "14365     VICTOR VALADEZ   3.001287e+08          US BANK    $754.76    $13.59   \n",
       "\n",
       "           total date_cashed               company_name  \n",
       "14361    $659.85  11/09/2021            SAMUEL HALE LLC  \n",
       "14362  $1,002.69  11/09/2021   FOUNTAINS GYRO HOUSE LLC  \n",
       "14363  $1,512.30  11/09/2021           RIDGE GYRO HOUSE  \n",
       "14364  $1,260.46  11/09/2021  TWS RESTAURANT CORP STORE  \n",
       "14365    $741.17  11/09/2021                 AVITUS INC  "
      ]
     },
     "execution_count": 37,
     "metadata": {},
     "output_type": "execute_result"
    }
   ],
   "source": [
    "checks_updated.tail()"
   ]
  },
  {
   "cell_type": "code",
   "execution_count": 38,
   "id": "94db0072",
   "metadata": {},
   "outputs": [
    {
     "data": {
      "text/html": [
       "<div>\n",
       "<style scoped>\n",
       "    .dataframe tbody tr th:only-of-type {\n",
       "        vertical-align: middle;\n",
       "    }\n",
       "\n",
       "    .dataframe tbody tr th {\n",
       "        vertical-align: top;\n",
       "    }\n",
       "\n",
       "    .dataframe thead th {\n",
       "        text-align: right;\n",
       "    }\n",
       "</style>\n",
       "<table border=\"1\" class=\"dataframe\">\n",
       "  <thead>\n",
       "    <tr style=\"text-align: right;\">\n",
       "      <th></th>\n",
       "      <th>client_name</th>\n",
       "      <th>check_no</th>\n",
       "      <th>bank</th>\n",
       "      <th>amount</th>\n",
       "      <th>commision</th>\n",
       "      <th>total</th>\n",
       "      <th>date_cashed</th>\n",
       "      <th>company_name</th>\n",
       "    </tr>\n",
       "  </thead>\n",
       "  <tbody>\n",
       "    <tr>\n",
       "      <th>0</th>\n",
       "      <td>DANIEL E AGUIRRE</td>\n",
       "      <td>1068.0</td>\n",
       "      <td>UNION BANK</td>\n",
       "      <td>$1,359.47</td>\n",
       "      <td>$21.07</td>\n",
       "      <td>$1,338.40</td>\n",
       "      <td>5/14/2019</td>\n",
       "      <td>CALIFORNIA BURRITO</td>\n",
       "    </tr>\n",
       "    <tr>\n",
       "      <th>1</th>\n",
       "      <td>CLAUDIO CALONA</td>\n",
       "      <td>30597.0</td>\n",
       "      <td>WELLS FARGO BANK</td>\n",
       "      <td>$1,138.19</td>\n",
       "      <td>$17.64</td>\n",
       "      <td>$1,120.55</td>\n",
       "      <td>5/14/2019</td>\n",
       "      <td>STONE TILE EVOLUTION LLC</td>\n",
       "    </tr>\n",
       "    <tr>\n",
       "      <th>2</th>\n",
       "      <td>ENRIQUE OROSCO DIAZ</td>\n",
       "      <td>3064.0</td>\n",
       "      <td>EL DORADO SAVINGS BANK</td>\n",
       "      <td>$895.34</td>\n",
       "      <td>$13.88</td>\n",
       "      <td>$881.46</td>\n",
       "      <td>5/14/2019</td>\n",
       "      <td>SB MARTIN LLC</td>\n",
       "    </tr>\n",
       "    <tr>\n",
       "      <th>3</th>\n",
       "      <td>CESAR ORTIZ RANGEL</td>\n",
       "      <td>10101647.0</td>\n",
       "      <td>CALIFORNIA BANK</td>\n",
       "      <td>$356.34</td>\n",
       "      <td>$5.52</td>\n",
       "      <td>$350.82</td>\n",
       "      <td>5/14/2019</td>\n",
       "      <td>HORIZON</td>\n",
       "    </tr>\n",
       "    <tr>\n",
       "      <th>4</th>\n",
       "      <td>CESAR ORTIZ RANGEL</td>\n",
       "      <td>10094421.0</td>\n",
       "      <td>CALIFORNIA BANK</td>\n",
       "      <td>$607.95</td>\n",
       "      <td>$9.42</td>\n",
       "      <td>$598.53</td>\n",
       "      <td>5/15/2019</td>\n",
       "      <td>HORIZON</td>\n",
       "    </tr>\n",
       "  </tbody>\n",
       "</table>\n",
       "</div>"
      ],
      "text/plain": [
       "           client_name    check_no                    bank     amount  \\\n",
       "0     DANIEL E AGUIRRE      1068.0              UNION BANK  $1,359.47   \n",
       "1       CLAUDIO CALONA     30597.0        WELLS FARGO BANK  $1,138.19   \n",
       "2  ENRIQUE OROSCO DIAZ      3064.0  EL DORADO SAVINGS BANK    $895.34   \n",
       "3   CESAR ORTIZ RANGEL  10101647.0         CALIFORNIA BANK    $356.34   \n",
       "4   CESAR ORTIZ RANGEL  10094421.0         CALIFORNIA BANK    $607.95   \n",
       "\n",
       "  commision      total date_cashed              company_name  \n",
       "0    $21.07  $1,338.40   5/14/2019        CALIFORNIA BURRITO  \n",
       "1    $17.64  $1,120.55   5/14/2019  STONE TILE EVOLUTION LLC  \n",
       "2    $13.88    $881.46   5/14/2019             SB MARTIN LLC  \n",
       "3     $5.52    $350.82   5/14/2019                   HORIZON  \n",
       "4     $9.42    $598.53   5/15/2019                   HORIZON  "
      ]
     },
     "execution_count": 38,
     "metadata": {},
     "output_type": "execute_result"
    }
   ],
   "source": [
    "checks_updated.head()"
   ]
  },
  {
   "cell_type": "code",
   "execution_count": 39,
   "id": "95c9164d",
   "metadata": {
    "scrolled": false
   },
   "outputs": [
    {
     "data": {
      "text/plain": [
       "'0        1.068000e+03\\n1        3.059700e+04\\n2        3.064000e+03\\n3        1.010165e+07\\n4        1.009442e+07\\n             ...     \\n14361    2.581330e+05\\n14362    1.031588e+09\\n14363    1.031570e+09\\n14364    5.554700e+04\\n14365    3.001287e+08\\nName: check_no, Length: 14365, dtype: float64'"
      ]
     },
     "execution_count": 39,
     "metadata": {},
     "output_type": "execute_result"
    }
   ],
   "source": [
    "str(checks_updated.check_no)"
   ]
  },
  {
   "cell_type": "code",
   "execution_count": 90,
   "id": "301a7736",
   "metadata": {},
   "outputs": [
    {
     "data": {
      "text/plain": [
       "['305970', '30640', '101016470']"
      ]
     },
     "execution_count": 90,
     "metadata": {},
     "output_type": "execute_result"
    }
   ],
   "source": [
    "dat =[str(x) for x in checks_updated.check_no]\n",
    "dat[1:4]"
   ]
  },
  {
   "cell_type": "code",
   "execution_count": 41,
   "id": "59a5c733",
   "metadata": {},
   "outputs": [
    {
     "name": "stderr",
     "output_type": "stream",
     "text": [
      "/var/folders/1h/rcqg0k810sz71dr55k5_lztm0000gn/T/ipykernel_33698/2317593942.py:1: SettingWithCopyWarning: \n",
      "A value is trying to be set on a copy of a slice from a DataFrame.\n",
      "Try using .loc[row_indexer,col_indexer] = value instead\n",
      "\n",
      "See the caveats in the documentation: https://pandas.pydata.org/pandas-docs/stable/user_guide/indexing.html#returning-a-view-versus-a-copy\n",
      "  checks_updated.loc[:,'check_no'] = [str(x) for x in checks_updated.check_no]\n"
     ]
    }
   ],
   "source": [
    "checks_updated.loc[:,'check_no'] = [str(x) for x in checks_updated.check_no]"
   ]
  },
  {
   "cell_type": "code",
   "execution_count": 42,
   "id": "920b9b7a",
   "metadata": {},
   "outputs": [
    {
     "data": {
      "text/plain": [
       "0              1068.0\n",
       "1             30597.0\n",
       "2              3064.0\n",
       "3          10101647.0\n",
       "4          10094421.0\n",
       "             ...     \n",
       "14361        258133.0\n",
       "14362    1031588363.0\n",
       "14363    1031570009.0\n",
       "14364         55547.0\n",
       "14365     300128739.0\n",
       "Name: check_no, Length: 14365, dtype: object"
      ]
     },
     "execution_count": 42,
     "metadata": {},
     "output_type": "execute_result"
    }
   ],
   "source": [
    "checks_updated.check_no"
   ]
  },
  {
   "cell_type": "code",
   "execution_count": 43,
   "id": "fbcc25d5",
   "metadata": {},
   "outputs": [
    {
     "data": {
      "text/plain": [
       "array(['1068.0'], dtype=object)"
      ]
     },
     "execution_count": 43,
     "metadata": {},
     "output_type": "execute_result"
    }
   ],
   "source": [
    "checks_updated['check_no'].loc[:0].values"
   ]
  },
  {
   "cell_type": "markdown",
   "id": "d1d88de7",
   "metadata": {},
   "source": [
    "Now need to remove the .0 from each of the check number values "
   ]
  },
  {
   "cell_type": "code",
   "execution_count": 52,
   "id": "dcac0fd3",
   "metadata": {},
   "outputs": [
    {
     "name": "stderr",
     "output_type": "stream",
     "text": [
      "/var/folders/1h/rcqg0k810sz71dr55k5_lztm0000gn/T/ipykernel_33698/211850763.py:1: FutureWarning: The default value of regex will change from True to False in a future version. In addition, single character regular expressions will *not* be treated as literal strings when regex=True.\n",
      "  checks_updated['check_no'].str.replace('.', '')[0]\n"
     ]
    },
    {
     "data": {
      "text/plain": [
       "'10680'"
      ]
     },
     "execution_count": 52,
     "metadata": {},
     "output_type": "execute_result"
    }
   ],
   "source": [
    "checks_updated['check_no'].str.replace('.', '')[0]"
   ]
  },
  {
   "cell_type": "code",
   "execution_count": 57,
   "id": "d153c06d",
   "metadata": {},
   "outputs": [
    {
     "name": "stderr",
     "output_type": "stream",
     "text": [
      "/var/folders/1h/rcqg0k810sz71dr55k5_lztm0000gn/T/ipykernel_33698/124791407.py:3: FutureWarning: The default value of regex will change from True to False in a future version. In addition, single character regular expressions will *not* be treated as literal strings when regex=True.\n",
      "  checks_updated.loc[:,'check_no'] = checks_updated['check_no'].str.replace('.','')\n",
      "/var/folders/1h/rcqg0k810sz71dr55k5_lztm0000gn/T/ipykernel_33698/124791407.py:3: SettingWithCopyWarning: \n",
      "A value is trying to be set on a copy of a slice from a DataFrame.\n",
      "Try using .loc[row_indexer,col_indexer] = value instead\n",
      "\n",
      "See the caveats in the documentation: https://pandas.pydata.org/pandas-docs/stable/user_guide/indexing.html#returning-a-view-versus-a-copy\n",
      "  checks_updated.loc[:,'check_no'] = checks_updated['check_no'].str.replace('.','')\n"
     ]
    }
   ],
   "source": [
    "# checks_updated['check_no'].str.replace('.0','')\n",
    "# running this will remove all of the 0's don't want to do this \n",
    "checks_updated.loc[:,'check_no'] = checks_updated['check_no'].str.replace('.','')"
   ]
  },
  {
   "cell_type": "code",
   "execution_count": 59,
   "id": "b16e7c67",
   "metadata": {},
   "outputs": [
    {
     "data": {
      "text/plain": [
       "0        10680\n",
       "1       305970\n",
       "2        30640\n",
       "3    101016470\n",
       "Name: check_no, dtype: object"
      ]
     },
     "execution_count": 59,
     "metadata": {},
     "output_type": "execute_result"
    }
   ],
   "source": [
    "checks_updated.check_no.iloc[:4]"
   ]
  },
  {
   "cell_type": "code",
   "execution_count": 60,
   "id": "3ee4fd48",
   "metadata": {},
   "outputs": [
    {
     "data": {
      "text/html": [
       "<div>\n",
       "<style scoped>\n",
       "    .dataframe tbody tr th:only-of-type {\n",
       "        vertical-align: middle;\n",
       "    }\n",
       "\n",
       "    .dataframe tbody tr th {\n",
       "        vertical-align: top;\n",
       "    }\n",
       "\n",
       "    .dataframe thead th {\n",
       "        text-align: right;\n",
       "    }\n",
       "</style>\n",
       "<table border=\"1\" class=\"dataframe\">\n",
       "  <thead>\n",
       "    <tr style=\"text-align: right;\">\n",
       "      <th></th>\n",
       "      <th>client_name</th>\n",
       "      <th>check_no</th>\n",
       "      <th>bank</th>\n",
       "      <th>amount</th>\n",
       "      <th>commision</th>\n",
       "      <th>total</th>\n",
       "      <th>date_cashed</th>\n",
       "      <th>company_name</th>\n",
       "    </tr>\n",
       "  </thead>\n",
       "  <tbody>\n",
       "    <tr>\n",
       "      <th>0</th>\n",
       "      <td>DANIEL E AGUIRRE</td>\n",
       "      <td>10680</td>\n",
       "      <td>UNION BANK</td>\n",
       "      <td>$1,359.47</td>\n",
       "      <td>$21.07</td>\n",
       "      <td>$1,338.40</td>\n",
       "      <td>5/14/2019</td>\n",
       "      <td>CALIFORNIA BURRITO</td>\n",
       "    </tr>\n",
       "    <tr>\n",
       "      <th>1</th>\n",
       "      <td>CLAUDIO CALONA</td>\n",
       "      <td>305970</td>\n",
       "      <td>WELLS FARGO BANK</td>\n",
       "      <td>$1,138.19</td>\n",
       "      <td>$17.64</td>\n",
       "      <td>$1,120.55</td>\n",
       "      <td>5/14/2019</td>\n",
       "      <td>STONE TILE EVOLUTION LLC</td>\n",
       "    </tr>\n",
       "    <tr>\n",
       "      <th>2</th>\n",
       "      <td>ENRIQUE OROSCO DIAZ</td>\n",
       "      <td>30640</td>\n",
       "      <td>EL DORADO SAVINGS BANK</td>\n",
       "      <td>$895.34</td>\n",
       "      <td>$13.88</td>\n",
       "      <td>$881.46</td>\n",
       "      <td>5/14/2019</td>\n",
       "      <td>SB MARTIN LLC</td>\n",
       "    </tr>\n",
       "    <tr>\n",
       "      <th>3</th>\n",
       "      <td>CESAR ORTIZ RANGEL</td>\n",
       "      <td>101016470</td>\n",
       "      <td>CALIFORNIA BANK</td>\n",
       "      <td>$356.34</td>\n",
       "      <td>$5.52</td>\n",
       "      <td>$350.82</td>\n",
       "      <td>5/14/2019</td>\n",
       "      <td>HORIZON</td>\n",
       "    </tr>\n",
       "    <tr>\n",
       "      <th>4</th>\n",
       "      <td>CESAR ORTIZ RANGEL</td>\n",
       "      <td>100944210</td>\n",
       "      <td>CALIFORNIA BANK</td>\n",
       "      <td>$607.95</td>\n",
       "      <td>$9.42</td>\n",
       "      <td>$598.53</td>\n",
       "      <td>5/15/2019</td>\n",
       "      <td>HORIZON</td>\n",
       "    </tr>\n",
       "  </tbody>\n",
       "</table>\n",
       "</div>"
      ],
      "text/plain": [
       "           client_name   check_no                    bank     amount  \\\n",
       "0     DANIEL E AGUIRRE      10680              UNION BANK  $1,359.47   \n",
       "1       CLAUDIO CALONA     305970        WELLS FARGO BANK  $1,138.19   \n",
       "2  ENRIQUE OROSCO DIAZ      30640  EL DORADO SAVINGS BANK    $895.34   \n",
       "3   CESAR ORTIZ RANGEL  101016470         CALIFORNIA BANK    $356.34   \n",
       "4   CESAR ORTIZ RANGEL  100944210         CALIFORNIA BANK    $607.95   \n",
       "\n",
       "  commision      total date_cashed              company_name  \n",
       "0    $21.07  $1,338.40   5/14/2019        CALIFORNIA BURRITO  \n",
       "1    $17.64  $1,120.55   5/14/2019  STONE TILE EVOLUTION LLC  \n",
       "2    $13.88    $881.46   5/14/2019             SB MARTIN LLC  \n",
       "3     $5.52    $350.82   5/14/2019                   HORIZON  \n",
       "4     $9.42    $598.53   5/15/2019                   HORIZON  "
      ]
     },
     "execution_count": 60,
     "metadata": {},
     "output_type": "execute_result"
    }
   ],
   "source": [
    "checks_updated.head()"
   ]
  },
  {
   "cell_type": "markdown",
   "id": "d82fb551",
   "metadata": {},
   "source": [
    "Sanity check- check_no is in the correct format before creating unique id"
   ]
  },
  {
   "cell_type": "code",
   "execution_count": 61,
   "id": "a8bc0f92",
   "metadata": {
    "scrolled": true
   },
   "outputs": [
    {
     "name": "stderr",
     "output_type": "stream",
     "text": [
      "/var/folders/1h/rcqg0k810sz71dr55k5_lztm0000gn/T/ipykernel_33698/3792601106.py:2: SettingWithCopyWarning: \n",
      "A value is trying to be set on a copy of a slice from a DataFrame.\n",
      "Try using .loc[row_indexer,col_indexer] = value instead\n",
      "\n",
      "See the caveats in the documentation: https://pandas.pydata.org/pandas-docs/stable/user_guide/indexing.html#returning-a-view-versus-a-copy\n",
      "  checks_updated['unique_id']= checks_updated.check_no + '_'+ checks_updated.bank+ '_' +checks_updated.company_name\n"
     ]
    }
   ],
   "source": [
    "#checks_updated['check_no'] = str(checks_updated.check_no)\n",
    "checks_updated['unique_id']= checks_updated.check_no + '_'+ checks_updated.bank+ '_' +checks_updated.company_name "
   ]
  },
  {
   "cell_type": "code",
   "execution_count": 62,
   "id": "33f506c2",
   "metadata": {
    "scrolled": true
   },
   "outputs": [
    {
     "data": {
      "text/html": [
       "<div>\n",
       "<style scoped>\n",
       "    .dataframe tbody tr th:only-of-type {\n",
       "        vertical-align: middle;\n",
       "    }\n",
       "\n",
       "    .dataframe tbody tr th {\n",
       "        vertical-align: top;\n",
       "    }\n",
       "\n",
       "    .dataframe thead th {\n",
       "        text-align: right;\n",
       "    }\n",
       "</style>\n",
       "<table border=\"1\" class=\"dataframe\">\n",
       "  <thead>\n",
       "    <tr style=\"text-align: right;\">\n",
       "      <th></th>\n",
       "      <th>client_name</th>\n",
       "      <th>check_no</th>\n",
       "      <th>bank</th>\n",
       "      <th>amount</th>\n",
       "      <th>commision</th>\n",
       "      <th>total</th>\n",
       "      <th>date_cashed</th>\n",
       "      <th>company_name</th>\n",
       "      <th>unique_id</th>\n",
       "    </tr>\n",
       "  </thead>\n",
       "  <tbody>\n",
       "    <tr>\n",
       "      <th>0</th>\n",
       "      <td>DANIEL E AGUIRRE</td>\n",
       "      <td>10680</td>\n",
       "      <td>UNION BANK</td>\n",
       "      <td>$1,359.47</td>\n",
       "      <td>$21.07</td>\n",
       "      <td>$1,338.40</td>\n",
       "      <td>5/14/2019</td>\n",
       "      <td>CALIFORNIA BURRITO</td>\n",
       "      <td>10680_UNION BANK_CALIFORNIA BURRITO</td>\n",
       "    </tr>\n",
       "    <tr>\n",
       "      <th>1</th>\n",
       "      <td>CLAUDIO CALONA</td>\n",
       "      <td>305970</td>\n",
       "      <td>WELLS FARGO BANK</td>\n",
       "      <td>$1,138.19</td>\n",
       "      <td>$17.64</td>\n",
       "      <td>$1,120.55</td>\n",
       "      <td>5/14/2019</td>\n",
       "      <td>STONE TILE EVOLUTION LLC</td>\n",
       "      <td>305970_WELLS FARGO BANK_STONE TILE EVOLUTION LLC</td>\n",
       "    </tr>\n",
       "    <tr>\n",
       "      <th>2</th>\n",
       "      <td>ENRIQUE OROSCO DIAZ</td>\n",
       "      <td>30640</td>\n",
       "      <td>EL DORADO SAVINGS BANK</td>\n",
       "      <td>$895.34</td>\n",
       "      <td>$13.88</td>\n",
       "      <td>$881.46</td>\n",
       "      <td>5/14/2019</td>\n",
       "      <td>SB MARTIN LLC</td>\n",
       "      <td>30640_EL DORADO SAVINGS BANK_SB MARTIN LLC</td>\n",
       "    </tr>\n",
       "    <tr>\n",
       "      <th>3</th>\n",
       "      <td>CESAR ORTIZ RANGEL</td>\n",
       "      <td>101016470</td>\n",
       "      <td>CALIFORNIA BANK</td>\n",
       "      <td>$356.34</td>\n",
       "      <td>$5.52</td>\n",
       "      <td>$350.82</td>\n",
       "      <td>5/14/2019</td>\n",
       "      <td>HORIZON</td>\n",
       "      <td>101016470_CALIFORNIA BANK_HORIZON</td>\n",
       "    </tr>\n",
       "    <tr>\n",
       "      <th>4</th>\n",
       "      <td>CESAR ORTIZ RANGEL</td>\n",
       "      <td>100944210</td>\n",
       "      <td>CALIFORNIA BANK</td>\n",
       "      <td>$607.95</td>\n",
       "      <td>$9.42</td>\n",
       "      <td>$598.53</td>\n",
       "      <td>5/15/2019</td>\n",
       "      <td>HORIZON</td>\n",
       "      <td>100944210_CALIFORNIA BANK_HORIZON</td>\n",
       "    </tr>\n",
       "  </tbody>\n",
       "</table>\n",
       "</div>"
      ],
      "text/plain": [
       "           client_name   check_no                    bank     amount  \\\n",
       "0     DANIEL E AGUIRRE      10680              UNION BANK  $1,359.47   \n",
       "1       CLAUDIO CALONA     305970        WELLS FARGO BANK  $1,138.19   \n",
       "2  ENRIQUE OROSCO DIAZ      30640  EL DORADO SAVINGS BANK    $895.34   \n",
       "3   CESAR ORTIZ RANGEL  101016470         CALIFORNIA BANK    $356.34   \n",
       "4   CESAR ORTIZ RANGEL  100944210         CALIFORNIA BANK    $607.95   \n",
       "\n",
       "  commision      total date_cashed              company_name  \\\n",
       "0    $21.07  $1,338.40   5/14/2019        CALIFORNIA BURRITO   \n",
       "1    $17.64  $1,120.55   5/14/2019  STONE TILE EVOLUTION LLC   \n",
       "2    $13.88    $881.46   5/14/2019             SB MARTIN LLC   \n",
       "3     $5.52    $350.82   5/14/2019                   HORIZON   \n",
       "4     $9.42    $598.53   5/15/2019                   HORIZON   \n",
       "\n",
       "                                          unique_id  \n",
       "0               10680_UNION BANK_CALIFORNIA BURRITO  \n",
       "1  305970_WELLS FARGO BANK_STONE TILE EVOLUTION LLC  \n",
       "2        30640_EL DORADO SAVINGS BANK_SB MARTIN LLC  \n",
       "3                 101016470_CALIFORNIA BANK_HORIZON  \n",
       "4                 100944210_CALIFORNIA BANK_HORIZON  "
      ]
     },
     "execution_count": 62,
     "metadata": {},
     "output_type": "execute_result"
    }
   ],
   "source": [
    "checks_updated.head()"
   ]
  },
  {
   "cell_type": "code",
   "execution_count": 63,
   "id": "8953b89f",
   "metadata": {},
   "outputs": [
    {
     "data": {
      "text/plain": [
       "0                 10680_UNION BANK_CALIFORNIA BURRITO\n",
       "1    305970_WELLS FARGO BANK_STONE TILE EVOLUTION LLC\n",
       "2          30640_EL DORADO SAVINGS BANK_SB MARTIN LLC\n",
       "3                   101016470_CALIFORNIA BANK_HORIZON\n",
       "Name: unique_id, dtype: object"
      ]
     },
     "execution_count": 63,
     "metadata": {},
     "output_type": "execute_result"
    }
   ],
   "source": [
    "checks_updated['unique_id'].iloc[:4]"
   ]
  },
  {
   "cell_type": "code",
   "execution_count": 64,
   "id": "9d972e43",
   "metadata": {
    "scrolled": true
   },
   "outputs": [
    {
     "data": {
      "text/html": [
       "<div>\n",
       "<style scoped>\n",
       "    .dataframe tbody tr th:only-of-type {\n",
       "        vertical-align: middle;\n",
       "    }\n",
       "\n",
       "    .dataframe tbody tr th {\n",
       "        vertical-align: top;\n",
       "    }\n",
       "\n",
       "    .dataframe thead th {\n",
       "        text-align: right;\n",
       "    }\n",
       "</style>\n",
       "<table border=\"1\" class=\"dataframe\">\n",
       "  <thead>\n",
       "    <tr style=\"text-align: right;\">\n",
       "      <th></th>\n",
       "      <th>client_name</th>\n",
       "      <th>check_no</th>\n",
       "      <th>bank</th>\n",
       "      <th>amount</th>\n",
       "      <th>commision</th>\n",
       "      <th>total</th>\n",
       "      <th>date_cashed</th>\n",
       "      <th>company_name</th>\n",
       "      <th>unique_id</th>\n",
       "    </tr>\n",
       "  </thead>\n",
       "  <tbody>\n",
       "    <tr>\n",
       "      <th>count</th>\n",
       "      <td>14365</td>\n",
       "      <td>14365</td>\n",
       "      <td>14365</td>\n",
       "      <td>14365</td>\n",
       "      <td>14365</td>\n",
       "      <td>14365</td>\n",
       "      <td>14365</td>\n",
       "      <td>14364</td>\n",
       "      <td>14364</td>\n",
       "    </tr>\n",
       "    <tr>\n",
       "      <th>unique</th>\n",
       "      <td>2077</td>\n",
       "      <td>12578</td>\n",
       "      <td>144</td>\n",
       "      <td>9729</td>\n",
       "      <td>3295</td>\n",
       "      <td>9957</td>\n",
       "      <td>906</td>\n",
       "      <td>1634</td>\n",
       "      <td>14229</td>\n",
       "    </tr>\n",
       "    <tr>\n",
       "      <th>top</th>\n",
       "      <td>RAMON DEL CID</td>\n",
       "      <td>640</td>\n",
       "      <td>BANK OF AMERICA</td>\n",
       "      <td>$100.00</td>\n",
       "      <td>$18.00</td>\n",
       "      <td>$982.00</td>\n",
       "      <td>11/5/2021</td>\n",
       "      <td>J &amp; E FONSECA TACOS INC</td>\n",
       "      <td>13400_UNION BANK_CALIFORNIA BURRITO</td>\n",
       "    </tr>\n",
       "    <tr>\n",
       "      <th>freq</th>\n",
       "      <td>500</td>\n",
       "      <td>10</td>\n",
       "      <td>3888</td>\n",
       "      <td>120</td>\n",
       "      <td>70</td>\n",
       "      <td>65</td>\n",
       "      <td>74</td>\n",
       "      <td>1007</td>\n",
       "      <td>3</td>\n",
       "    </tr>\n",
       "  </tbody>\n",
       "</table>\n",
       "</div>"
      ],
      "text/plain": [
       "          client_name check_no             bank   amount commision    total  \\\n",
       "count           14365    14365            14365    14365     14365    14365   \n",
       "unique           2077    12578              144     9729      3295     9957   \n",
       "top     RAMON DEL CID      640  BANK OF AMERICA  $100.00    $18.00  $982.00   \n",
       "freq              500       10             3888      120        70       65   \n",
       "\n",
       "       date_cashed             company_name  \\\n",
       "count        14365                    14364   \n",
       "unique         906                     1634   \n",
       "top      11/5/2021  J & E FONSECA TACOS INC   \n",
       "freq            74                     1007   \n",
       "\n",
       "                                  unique_id  \n",
       "count                                 14364  \n",
       "unique                                14229  \n",
       "top     13400_UNION BANK_CALIFORNIA BURRITO  \n",
       "freq                                      3  "
      ]
     },
     "execution_count": 64,
     "metadata": {},
     "output_type": "execute_result"
    }
   ],
   "source": [
    "checks_updated.describe()\n",
    "# put () after "
   ]
  },
  {
   "cell_type": "code",
   "execution_count": 65,
   "id": "b13639e2",
   "metadata": {},
   "outputs": [
    {
     "data": {
      "text/html": [
       "<div>\n",
       "<style scoped>\n",
       "    .dataframe tbody tr th:only-of-type {\n",
       "        vertical-align: middle;\n",
       "    }\n",
       "\n",
       "    .dataframe tbody tr th {\n",
       "        vertical-align: top;\n",
       "    }\n",
       "\n",
       "    .dataframe thead th {\n",
       "        text-align: right;\n",
       "    }\n",
       "</style>\n",
       "<table border=\"1\" class=\"dataframe\">\n",
       "  <thead>\n",
       "    <tr style=\"text-align: right;\">\n",
       "      <th></th>\n",
       "      <th>client_name</th>\n",
       "      <th>check_no</th>\n",
       "      <th>bank</th>\n",
       "      <th>amount</th>\n",
       "      <th>commision</th>\n",
       "      <th>total</th>\n",
       "      <th>date_cashed</th>\n",
       "      <th>company_name</th>\n",
       "      <th>unique_id</th>\n",
       "    </tr>\n",
       "  </thead>\n",
       "  <tbody>\n",
       "    <tr>\n",
       "      <th>14361</th>\n",
       "      <td>JUAN SARABIA</td>\n",
       "      <td>2581330</td>\n",
       "      <td>BANK OF AMERICA</td>\n",
       "      <td>$671.95</td>\n",
       "      <td>$12.10</td>\n",
       "      <td>$659.85</td>\n",
       "      <td>11/09/2021</td>\n",
       "      <td>SAMUEL HALE LLC</td>\n",
       "      <td>2581330_BANK OF AMERICA_SAMUEL HALE LLC</td>\n",
       "    </tr>\n",
       "    <tr>\n",
       "      <th>14362</th>\n",
       "      <td>ELDER CHOCOJ</td>\n",
       "      <td>10315883630</td>\n",
       "      <td>CHASE BANK</td>\n",
       "      <td>$1,021.07</td>\n",
       "      <td>$18.38</td>\n",
       "      <td>$1,002.69</td>\n",
       "      <td>11/09/2021</td>\n",
       "      <td>FOUNTAINS GYRO HOUSE LLC</td>\n",
       "      <td>10315883630_CHASE BANK_FOUNTAINS GYRO HOUSE LLC</td>\n",
       "    </tr>\n",
       "    <tr>\n",
       "      <th>14363</th>\n",
       "      <td>ELDER CHOCOJ</td>\n",
       "      <td>10315700090</td>\n",
       "      <td>CHASE BANK</td>\n",
       "      <td>$1,540.02</td>\n",
       "      <td>$27.72</td>\n",
       "      <td>$1,512.30</td>\n",
       "      <td>11/09/2021</td>\n",
       "      <td>RIDGE GYRO HOUSE</td>\n",
       "      <td>10315700090_CHASE BANK_RIDGE GYRO HOUSE</td>\n",
       "    </tr>\n",
       "    <tr>\n",
       "      <th>14364</th>\n",
       "      <td>LEONORA OCHOA RUIZ</td>\n",
       "      <td>555470</td>\n",
       "      <td>PREMIER BANK</td>\n",
       "      <td>$1,283.56</td>\n",
       "      <td>$23.10</td>\n",
       "      <td>$1,260.46</td>\n",
       "      <td>11/09/2021</td>\n",
       "      <td>TWS RESTAURANT CORP STORE</td>\n",
       "      <td>555470_PREMIER BANK_TWS RESTAURANT CORP STORE</td>\n",
       "    </tr>\n",
       "    <tr>\n",
       "      <th>14365</th>\n",
       "      <td>VICTOR VALADEZ</td>\n",
       "      <td>3001287390</td>\n",
       "      <td>US BANK</td>\n",
       "      <td>$754.76</td>\n",
       "      <td>$13.59</td>\n",
       "      <td>$741.17</td>\n",
       "      <td>11/09/2021</td>\n",
       "      <td>AVITUS INC</td>\n",
       "      <td>3001287390_US BANK_AVITUS INC</td>\n",
       "    </tr>\n",
       "  </tbody>\n",
       "</table>\n",
       "</div>"
      ],
      "text/plain": [
       "              client_name     check_no             bank     amount commision  \\\n",
       "14361        JUAN SARABIA      2581330  BANK OF AMERICA    $671.95    $12.10   \n",
       "14362        ELDER CHOCOJ  10315883630       CHASE BANK  $1,021.07    $18.38   \n",
       "14363        ELDER CHOCOJ  10315700090       CHASE BANK  $1,540.02    $27.72   \n",
       "14364  LEONORA OCHOA RUIZ       555470     PREMIER BANK  $1,283.56    $23.10   \n",
       "14365     VICTOR VALADEZ    3001287390          US BANK    $754.76    $13.59   \n",
       "\n",
       "           total date_cashed               company_name  \\\n",
       "14361    $659.85  11/09/2021            SAMUEL HALE LLC   \n",
       "14362  $1,002.69  11/09/2021   FOUNTAINS GYRO HOUSE LLC   \n",
       "14363  $1,512.30  11/09/2021           RIDGE GYRO HOUSE   \n",
       "14364  $1,260.46  11/09/2021  TWS RESTAURANT CORP STORE   \n",
       "14365    $741.17  11/09/2021                 AVITUS INC   \n",
       "\n",
       "                                             unique_id  \n",
       "14361          2581330_BANK OF AMERICA_SAMUEL HALE LLC  \n",
       "14362  10315883630_CHASE BANK_FOUNTAINS GYRO HOUSE LLC  \n",
       "14363          10315700090_CHASE BANK_RIDGE GYRO HOUSE  \n",
       "14364    555470_PREMIER BANK_TWS RESTAURANT CORP STORE  \n",
       "14365                    3001287390_US BANK_AVITUS INC  "
      ]
     },
     "execution_count": 65,
     "metadata": {},
     "output_type": "execute_result"
    }
   ],
   "source": [
    "checks_updated.tail()"
   ]
  },
  {
   "cell_type": "code",
   "execution_count": 66,
   "id": "889536f0",
   "metadata": {},
   "outputs": [
    {
     "data": {
      "text/plain": [
       "array(['10680_UNION BANK_CALIFORNIA BURRITO',\n",
       "       '305970_WELLS FARGO BANK_STONE TILE EVOLUTION LLC',\n",
       "       '30640_EL DORADO SAVINGS BANK_SB MARTIN LLC', ...,\n",
       "       '10315700090_CHASE BANK_RIDGE GYRO HOUSE',\n",
       "       '555470_PREMIER BANK_TWS RESTAURANT CORP STORE',\n",
       "       '3001287390_US BANK_AVITUS INC'], dtype=object)"
      ]
     },
     "execution_count": 66,
     "metadata": {},
     "output_type": "execute_result"
    }
   ],
   "source": [
    "checks_updated['unique_id'].values"
   ]
  },
  {
   "cell_type": "code",
   "execution_count": 67,
   "id": "53c3a30a",
   "metadata": {},
   "outputs": [
    {
     "data": {
      "text/plain": [
       "client_name      True\n",
       "check_no         True\n",
       "bank             True\n",
       "amount           True\n",
       "commision       False\n",
       "total           False\n",
       "date_cashed      True\n",
       "company_name     True\n",
       "dtype: bool"
      ]
     },
     "execution_count": 67,
     "metadata": {},
     "output_type": "execute_result"
    }
   ],
   "source": [
    "checks_df.isna().any()"
   ]
  },
  {
   "cell_type": "code",
   "execution_count": 68,
   "id": "38dcf221",
   "metadata": {},
   "outputs": [
    {
     "data": {
      "text/plain": [
       "client_name     False\n",
       "check_no        False\n",
       "bank            False\n",
       "amount          False\n",
       "commision       False\n",
       "total           False\n",
       "date_cashed     False\n",
       "company_name     True\n",
       "unique_id        True\n",
       "dtype: bool"
      ]
     },
     "execution_count": 68,
     "metadata": {},
     "output_type": "execute_result"
    }
   ],
   "source": [
    "# drop missing values went from 17,900 to 14,300 entries \n",
    "# sanity check\n",
    "checks_updated.isna().any()"
   ]
  },
  {
   "cell_type": "code",
   "execution_count": 78,
   "id": "428699d3",
   "metadata": {
    "scrolled": true
   },
   "outputs": [
    {
     "data": {
      "text/plain": [
       "array(['10680_UNION BANK_CALIFORNIA BURRITO',\n",
       "       '305970_WELLS FARGO BANK_STONE TILE EVOLUTION LLC',\n",
       "       '30640_EL DORADO SAVINGS BANK_SB MARTIN LLC',\n",
       "       '101016470_CALIFORNIA BANK_HORIZON'], dtype=object)"
      ]
     },
     "execution_count": 78,
     "metadata": {},
     "output_type": "execute_result"
    }
   ],
   "source": [
    "checks_updated['unique_id'].loc[:3].values"
   ]
  },
  {
   "cell_type": "code",
   "execution_count": 79,
   "id": "de988ad5",
   "metadata": {},
   "outputs": [
    {
     "data": {
      "text/plain": [
       "0                     10680UNION BANKCALIFORNIA BURRITO\n",
       "1        305970WELLS FARGO BANKSTONE TILE EVOLUTION LLC\n",
       "2              30640EL DORADO SAVINGS BANKSB MARTIN LLC\n",
       "3                       101016470CALIFORNIA BANKHORIZON\n",
       "4                       100944210CALIFORNIA BANKHORIZON\n",
       "                              ...                      \n",
       "14361             2581330BANK OF AMERICASAMUEL HALE LLC\n",
       "14362     10315883630CHASE BANKFOUNTAINS GYRO HOUSE LLC\n",
       "14363             10315700090CHASE BANKRIDGE GYRO HOUSE\n",
       "14364       555470PREMIER BANKTWS RESTAURANT CORP STORE\n",
       "14365                       3001287390US BANKAVITUS INC\n",
       "Name: unique_id, Length: 14365, dtype: object"
      ]
     },
     "execution_count": 79,
     "metadata": {},
     "output_type": "execute_result"
    }
   ],
   "source": [
    "# should i take the _ out? \n",
    "checks_updated['unique_id'].str.replace('_','')"
   ]
  },
  {
   "cell_type": "code",
   "execution_count": 80,
   "id": "0511a6e3",
   "metadata": {},
   "outputs": [
    {
     "data": {
      "text/plain": [
       "array(['10680', '305970', '30640', '101016470'], dtype=object)"
      ]
     },
     "execution_count": 80,
     "metadata": {},
     "output_type": "execute_result"
    }
   ],
   "source": [
    "checks_updated['check_no'].loc[:3].values"
   ]
  },
  {
   "cell_type": "code",
   "execution_count": 81,
   "id": "cbdfce18",
   "metadata": {},
   "outputs": [],
   "source": [
    "#checks_updated['check_no'].str.replace('\\n','').str.replace('\\\\n1','')[0]\n",
    "#checks_updated['check_no'].str.split().str.join(\"\")[0]\n"
   ]
  },
  {
   "cell_type": "code",
   "execution_count": 82,
   "id": "305fd9a6",
   "metadata": {},
   "outputs": [
    {
     "name": "stdout",
     "output_type": "stream",
     "text": [
      "<class 'pandas.core.frame.DataFrame'>\n",
      "Int64Index: 14365 entries, 0 to 14365\n",
      "Data columns (total 9 columns):\n",
      " #   Column        Non-Null Count  Dtype \n",
      "---  ------        --------------  ----- \n",
      " 0   client_name   14365 non-null  object\n",
      " 1   check_no      14365 non-null  object\n",
      " 2   bank          14365 non-null  object\n",
      " 3   amount        14365 non-null  object\n",
      " 4   commision     14365 non-null  object\n",
      " 5   total         14365 non-null  object\n",
      " 6   date_cashed   14365 non-null  object\n",
      " 7   company_name  14364 non-null  object\n",
      " 8   unique_id     14364 non-null  object\n",
      "dtypes: object(9)\n",
      "memory usage: 1.6+ MB\n"
     ]
    }
   ],
   "source": [
    "checks_updated.info()"
   ]
  },
  {
   "cell_type": "code",
   "execution_count": 83,
   "id": "c9fb118e",
   "metadata": {},
   "outputs": [
    {
     "data": {
      "text/plain": [
       "array(['10680'], dtype=object)"
      ]
     },
     "execution_count": 83,
     "metadata": {},
     "output_type": "execute_result"
    }
   ],
   "source": [
    "checks_updated['check_no'].loc[:0].values"
   ]
  },
  {
   "cell_type": "code",
   "execution_count": 47,
   "id": "160f4355",
   "metadata": {},
   "outputs": [],
   "source": [
    "# need to bring the data into the right shape \n",
    "# unique id- index column \n",
    "# ds column has the date or a numerical value \n",
    "# y column- the target variable of our univariate time series\n"
   ]
  },
  {
   "cell_type": "code",
   "execution_count": 52,
   "id": "c1f017b8",
   "metadata": {},
   "outputs": [],
   "source": [
    "#!pip install statsforecast\n",
    "#!pip install datasetsforecast"
   ]
  },
  {
   "cell_type": "code",
   "execution_count": 3,
   "id": "5b762435",
   "metadata": {},
   "outputs": [],
   "source": [
    "#!pip install s3fs"
   ]
  },
  {
   "cell_type": "code",
   "execution_count": 53,
   "id": "0ea025cf",
   "metadata": {},
   "outputs": [],
   "source": [
    "from statsforecast import StatsForecast"
   ]
  },
  {
   "cell_type": "code",
   "execution_count": null,
   "id": "fb92e01e",
   "metadata": {},
   "outputs": [],
   "source": [
    "from statsforecast.models import (\n",
    "AutoARIMA,\n",
    "HotWinters,\n",
    "CrostonClassic as Croston,\n",
    "HistoricAverage,\n",
    "DynamicOptimizedTheta as DOT,\n",
    "SeasonalNaive)\n",
    "\n",
    "# creating a list of models and instantiation parameters\n",
    "models = [\n",
    "    AutoARIMA(season_length=24),\n",
    "    HotWinters(),\n",
    "    Croston(),\n",
    "    HistoricAverage(),\n",
    "    DOT(season_length=24),\n",
    "    SeasonalNaive(season_length=24)\n",
    "]"
   ]
  },
  {
   "cell_type": "code",
   "execution_count": null,
   "id": "daf51422",
   "metadata": {},
   "outputs": [],
   "source": []
  }
 ],
 "metadata": {
  "kernelspec": {
   "display_name": "Python 3 (ipykernel)",
   "language": "python",
   "name": "python3"
  },
  "language_info": {
   "codemirror_mode": {
    "name": "ipython",
    "version": 3
   },
   "file_extension": ".py",
   "mimetype": "text/x-python",
   "name": "python",
   "nbconvert_exporter": "python",
   "pygments_lexer": "ipython3",
   "version": "3.9.12"
  }
 },
 "nbformat": 4,
 "nbformat_minor": 5
}
